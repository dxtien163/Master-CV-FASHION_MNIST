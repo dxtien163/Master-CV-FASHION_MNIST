{
 "cells": [
  {
   "cell_type": "markdown",
   "metadata": {},
   "source": [
    "# Computer Vision\n",
    "\n",
    "Prof. Lee Chilwoo\n",
    "\n",
    "Student: Dang Xuan Tien - 188163"
   ]
  },
  {
   "cell_type": "markdown",
   "metadata": {},
   "source": [
    "# Import Libraries"
   ]
  },
  {
   "cell_type": "code",
   "execution_count": 36,
   "metadata": {},
   "outputs": [],
   "source": [
    "from keras.datasets import fashion_mnist\n",
    "import numpy as np\n",
    "import os\n",
    "from sklearn.metrics import confusion_matrix\n",
    "from sklearn.multiclass import OneVsRestClassifier\n",
    "from sklearn.svm import SVC\n",
    "from sklearn.decomposition import PCA\n",
    "import h5py\n",
    "import xgboost as xgb\n",
    "import matplotlib.pyplot as plt\n",
    "from skimage.io import imread\n",
    "from skimage.feature import hog\n",
    "import cv2\n",
    "import pickle\n",
    "from sklearn.metrics import confusion_matrix"
   ]
  },
  {
   "cell_type": "markdown",
   "metadata": {},
   "source": [
    "# Overview"
   ]
  },
  {
   "cell_type": "markdown",
   "metadata": {},
   "source": [
    "- Fashion MNIST dataset includes 10 classes:\n",
    "    * 0 - T-shirt/top\n",
    "    * 1 - Trouser\n",
    "    * 2 - Pullover\n",
    "    * 3 - Dress\n",
    "    * 4 - Coat\n",
    "    * 5 - Sandal\n",
    "    * 6 - Shirt\n",
    "    * 7 - Sneaker\n",
    "    * 8 - Bag\n",
    "    * 9 - Ankle boot\n",
    "- Goal: classify 10 classes\n",
    "- Description dataset:\n",
    "    * Size of image 28x28\n",
    "    * Training set: 60,000 images\n",
    "    * Testing set: 10,000 images\n",
    "- Feature Extractor: HOG\n",
    "- Classifiers: SVM and XGBoost\n",
    "- The link of Fashion MNIST Dataset: https://www.kaggle.com/zalando-research/fashionmnist"
   ]
  },
  {
   "cell_type": "markdown",
   "metadata": {},
   "source": [
    "# Get Class name"
   ]
  },
  {
   "cell_type": "code",
   "execution_count": 5,
   "metadata": {},
   "outputs": [],
   "source": [
    "def get_name(indx):\n",
    "    #indx = np.argmax(ohv)\n",
    "        \n",
    "    if indx == 0:\n",
    "        return 'T-Shirt'\n",
    "    elif indx == 1:\n",
    "        return 'Trouser'\n",
    "    elif indx == 2:\n",
    "        return 'Pullover'\n",
    "    elif indx == 3:\n",
    "        return 'Dress'\n",
    "    elif indx == 4:\n",
    "        return 'Coat'\n",
    "    elif indx == 5:\n",
    "        return 'Sandal'\n",
    "    elif indx == 6:\n",
    "        return 'Shirt'\n",
    "    elif indx == 7:\n",
    "        return 'Sneaker'\n",
    "    elif indx == 8:\n",
    "        return 'Bag'\n",
    "    elif indx == 9:\n",
    "        return 'Ankle boost'"
   ]
  },
  {
   "cell_type": "markdown",
   "metadata": {},
   "source": [
    "# Load dataset"
   ]
  },
  {
   "cell_type": "code",
   "execution_count": 6,
   "metadata": {},
   "outputs": [],
   "source": [
    "(x_train, y_train), (x_test, y_test) = fashion_mnist.load_data()"
   ]
  },
  {
   "cell_type": "code",
   "execution_count": 7,
   "metadata": {},
   "outputs": [
    {
     "name": "stdout",
     "output_type": "stream",
     "text": [
      "Size of training set:  (60000, 28, 28)\n",
      "Size of training label:  (60000,)\n",
      "Size of testing set:  (10000, 28, 28)\n",
      "Size of testing label:  (10000,)\n"
     ]
    }
   ],
   "source": [
    "print(\"Size of training set: \", np.shape(x_train))\n",
    "print(\"Size of training label: \", np.shape(y_train))\n",
    "print(\"Size of testing set: \", np.shape(x_test))\n",
    "print(\"Size of testing label: \", np.shape(y_test))"
   ]
  },
  {
   "cell_type": "markdown",
   "metadata": {},
   "source": [
    "# Show Image in Fashion MNIST dataset"
   ]
  },
  {
   "cell_type": "code",
   "execution_count": 10,
   "metadata": {},
   "outputs": [
    {
     "name": "stdout",
     "output_type": "stream",
     "text": [
      "The image of Coat\n"
     ]
    },
    {
     "data": {
      "image/png": "[encoded data removed]",
      "text/plain": [
       "<Figure size 432x288 with 1 Axes>"
      ]
     },
     "metadata": {},
     "output_type": "display_data"
    }
   ],
   "source": [
    "img_indx = np.uint32(np.random.rand()*(y_test.shape[0] - 1))\n",
    "sample = x_test[img_indx,:,:]\n",
    "\n",
    "plt.imshow(sample, cmap='gray')\n",
    "plt.show\n",
    "print('The image of %s' % (get_name(y_test[img_indx])))"
   ]
  },
  {
   "cell_type": "code",
   "execution_count": 47,
   "metadata": {},
   "outputs": [],
   "source": [
    "# Extract features using HOG\n",
    "def creatingDataSet_HOG(data, cell, blk):\n",
    "  desc = list()\n",
    "\n",
    "  for i in range(np.shape(data)[0]):\n",
    "    print(i)\n",
    "    img = data[i,:,:]\n",
    "    features, hog_img = hog(img, orientations=9, pixels_per_cell=(cell, cell),\n",
    "                          cells_per_block=(blk, blk), block_norm='L1', visualise=True)\n",
    "    features = features.reshape(1, len(features))\n",
    "    desc.extend(features)\n",
    "  return desc\n",
    "\n",
    "# # Extract features using SIFT\n",
    "# def extractingfeature_SIFT(img, sift):\n",
    "#   (kps,descs) = sift.detectAndCompute(img,None)\n",
    "#   return (kps,descs)\n",
    "\n",
    "# def bowextractingfeature_SIFT(img, sift):\n",
    "#   kps = sift.detect(img,None)\n",
    "#   return bow_dictionary.compute(img,kps)\n",
    "\n",
    "# def creatingDataSet_SIFT(data, sift): \n",
    "#   desc = list()\n",
    "  \n",
    "#   for i in range(np.shape(data)[0]):\n",
    "#     print(i)\n",
    "#     img = data[i,:,:]\n",
    "#     features = bowextractingfeature_SIFT(img, sift)\n",
    "#     desc.extend(features)\n",
    "\n",
    "#   desc = np.array(desc)\n",
    "#   return desc"
   ]
  },
  {
   "cell_type": "markdown",
   "metadata": {},
   "source": [
    "# Extract Features"
   ]
  },
  {
   "cell_type": "code",
   "execution_count": null,
   "metadata": {},
   "outputs": [],
   "source": [
    "pf_save = r\"G:\\STUDY\\Sem 1\\CV\\Project\\Features\"\n",
    "\n",
    "# Extract features by HOG\n",
    "for cell in [7]:\n",
    "  for blk in [2]:\n",
    "      print('Extracting train features')\n",
    "      train_desc = creatingDataSet_HOG(x_train, cell, blk)\n",
    "\n",
    "      print('Extracting test features')\n",
    "      test_desc = creatingDataSet_HOG(x_test, cell, blk)\n",
    "\n",
    "      h5py_fName = ('HOG_C%s_B%s.h5' %(cell, blk))\n",
    "\n",
    "      with h5py.File(os.path.join(pf_save, h5py_fName), 'w') as hf:\n",
    "          hf.create_dataset('X_train', data=train_desc, compression=\"gzip\")\n",
    "          hf.create_dataset('Y_train', data=y_train, compression=\"gzip\")\n",
    "          hf.create_dataset('X_test', data=test_desc, compression=\"gzip\")\n",
    "          hf.create_dataset('Y_test', data=y_test, compression=\"gzip\")"
   ]
  },
  {
   "cell_type": "markdown",
   "metadata": {},
   "source": [
    "# Define functions for training"
   ]
  },
  {
   "cell_type": "code",
   "execution_count": 2,
   "metadata": {},
   "outputs": [],
   "source": [
    "def model_SVM(train_desc, test_desc, train_labels, test_labels, txt_file, path, cell, blk):\n",
    "    \n",
    "    for ker in ['rbf']:\n",
    "        for C in [0.01,1, 10]:\n",
    "            for gamma in [0.1, 1, 10]:\n",
    "                print(ker, C, gamma)\n",
    "                classif = OneVsRestClassifier(SVC(kernel=ker, C = C, gamma = gamma))\n",
    "                classif.fit(train_desc, train_labels)\n",
    "\n",
    "                filename = (r'%s\\C%s_B%s_SVM_%s_C%s_gamma%s.pkl' %(path,cell, blk, ker, C, gamma))\n",
    "                pickle.dump(classif, open(filename, 'wb'))\n",
    "\n",
    "\n",
    "                train_pre = classif.predict(train_desc)\n",
    "                train_confusion = confusion_matrix(train_labels, train_pre)\n",
    "                train_acc = float(np.sum(np.diagonal(train_confusion)))/np.sum(np.sum(train_confusion))\n",
    "\n",
    "                test_pre = classif.predict(test_desc)\n",
    "                test_confusion = confusion_matrix(test_labels, test_pre)\n",
    "                test_acc = float(np.sum(np.diagonal(test_confusion))) / np.sum(np.sum(test_confusion))\n",
    "\n",
    "\n",
    "                print('%s, %s\\n' %(train_acc, test_acc))\n",
    "                txt_file.write('Kernel: %s,C = %s, gamma = %s, train = %s, test = %s\\n' %(ker, C, gamma, \n",
    "                                                                                          train_acc, test_acc))\n",
    "                \n",
    "def model_xgboost(train_desc, test_desc, train_labels, test_labels, txt_file, path, cell, blk):\n",
    "    \n",
    "    # Transfer orginal data to DMatrix (A type of XGBoost)\n",
    "    dtrain = xgb.DMatrix(train_desc, label=train_labels)\n",
    "    dtest = xgb.DMatrix(test_desc, label=test_labels)\n",
    "    \n",
    "    num_round = 10\n",
    "    \n",
    "    for maxD in [6, 12]:\n",
    "        for eta in [0.1, 0.5]:\n",
    "            print(maxD, eta)\n",
    "            # Set parameters for training based on XGBoost\n",
    "            param = {'max_depth':maxD, 'eta':eta, 'objective':'multi:softmax', \n",
    "                     'num_class': 10}\n",
    "            \n",
    "            # Declare model and training\n",
    "            classif = xgb.train(param, dtrain, num_round)\n",
    "            \n",
    "            # Save model\n",
    "            filename = (r'%s\\C%s_B%s_XGBoost_MxD%s_lr%s.pkl' %(path, cell, blk, maxD, eta))\n",
    "            pickle.dump(classif, open(filename, 'wb'))\n",
    "            \n",
    "            # Predict model on training set\n",
    "            train_pre = classif.predict(dtrain)\n",
    "            train_confusion = confusion_matrix(train_labels, train_pre)\n",
    "            train_acc = float(np.sum(np.diagonal(train_confusion)))/np.sum(np.sum(train_confusion))\n",
    "\n",
    "            # Predict model on testing set\n",
    "            test_pre = classif.predict(dtest)\n",
    "            test_confusion = confusion_matrix(test_labels, test_pre)\n",
    "            test_acc = float(np.sum(np.diagonal(test_confusion))) / np.sum(np.sum(test_confusion))\n",
    "\n",
    "            # Write the results on file\n",
    "            print('%s, %s\\n' %(train_acc, test_acc))\n",
    "            txt_file.write(\"lr = %s, maxD = %s\" %(eta, maxD))\n",
    "            txt_file.write(\"train = %s, test = %s\\n\" %(train_acc, test_acc))"
   ]
  },
  {
   "cell_type": "markdown",
   "metadata": {},
   "source": [
    "# Running"
   ]
  },
  {
   "cell_type": "code",
   "execution_count": 11,
   "metadata": {},
   "outputs": [
    {
     "name": "stdout",
     "output_type": "stream",
     "text": [
      "size of training features:  (60000, 1296)\n",
      "size of testing features:  (10000, 1296)\n",
      "6 0.1\n",
      "0.8893333333333333, 0.848\n",
      "\n",
      "6 0.5\n",
      "0.9328, 0.8648\n",
      "\n",
      "12 0.1\n",
      "0.9847833333333333, 0.8649\n",
      "\n",
      "12 0.5\n",
      "0.9998166666666667, 0.8674\n",
      "\n",
      "size of training features:  (60000, 2304)\n",
      "size of testing features:  (10000, 2304)\n",
      "6 0.1\n",
      "0.8883666666666666, 0.846\n",
      "\n",
      "6 0.5\n",
      "0.93105, 0.865\n",
      "\n",
      "12 0.1\n",
      "0.9829166666666667, 0.8652\n",
      "\n",
      "12 0.5\n",
      "0.9998166666666667, 0.8662\n",
      "\n",
      "size of training features:  (60000, 324)\n",
      "size of testing features:  (10000, 324)\n",
      "6 0.1\n",
      "0.85615, 0.8135\n",
      "\n",
      "6 0.5\n",
      "0.9034333333333333, 0.8333\n",
      "\n",
      "12 0.1\n",
      "0.9770833333333333, 0.8383\n",
      "\n",
      "12 0.5\n",
      "0.9988833333333333, 0.8425\n",
      "\n",
      "size of training features:  (60000, 144)\n",
      "size of testing features:  (10000, 144)\n",
      "6 0.1\n",
      "0.84805, 0.8095\n",
      "\n",
      "6 0.5\n",
      "0.8962166666666667, 0.8318\n",
      "\n",
      "12 0.1\n",
      "0.9738166666666667, 0.8384\n",
      "\n",
      "12 0.5\n",
      "0.9985, 0.8399\n",
      "\n"
     ]
    }
   ],
   "source": [
    "# Some path\n",
    "pf_save = r'G:\\STUDY\\Sem 1\\CV\\Project\\model'\n",
    "pf_result = r'G:\\STUDY\\Sem 1\\CV\\Project\\results'\n",
    "pf_feature = r'G:\\STUDY\\Sem 1\\CV\\Project\\Features'\n",
    "\n",
    "# Declare txt file names\n",
    "txtName2 = ('%s\\\\result_HOG_XGBoost.txt' %pf_result)\n",
    "txt_file2 = open(txtName2, \"w\")\n",
    "\n",
    "for cell in [4, 7]:\n",
    "    for blk in [2, 4]:\n",
    "        #Read data HOG\n",
    "        h5py_fName = ('HOG_C%s_B%s.h5' %(cell, blk))\n",
    "        h5f = h5py.File(os.path.join(pf_feature, h5py_fName), 'r')\n",
    "\n",
    "        X_train_HOG = h5f['X_train'][:]\n",
    "        Y_train_HOG = h5f['Y_train'][:]\n",
    "\n",
    "        X_test_HOG = h5f['X_test'][:]\n",
    "        Y_test_HOG = h5f['Y_test'][:]\n",
    "        \n",
    "        print(\"size of training features: \", np.shape(X_train_HOG))\n",
    "        print(\"size of testing features: \", np.shape(X_test_HOG))\n",
    "\n",
    "        txt_file2.write('HOG: Cell = %s, blk = %s\\n' %(cell, blk))\n",
    "        \n",
    "        # Training\n",
    "        model_xgboost(X_train_HOG, X_test_HOG, Y_train_HOG, Y_test_HOG, txt_file2, pf_save, cell, blk)\n",
    "\n",
    "txt_file2.close()"
   ]
  },
  {
   "cell_type": "markdown",
   "metadata": {},
   "source": [
    "# Example"
   ]
  },
  {
   "cell_type": "code",
   "execution_count": 37,
   "metadata": {},
   "outputs": [
    {
     "name": "stdout",
     "output_type": "stream",
     "text": [
      "size of training features:  (60000, 6084)\n",
      "size of testing features:  (10000, 6084)\n",
      "[[818   4  20  28  10   1 108   0  11   0]\n",
      " [  2 950   3  24   6   0  13   0   2   0]\n",
      " [ 19   0 789  14 100   0  73   0   5   0]\n",
      " [ 20  11   8 878  34   1  44   0   2   2]\n",
      " [  1   2  89  47 783   0  71   0   7   0]\n",
      " [  0   0   0   0   0 939   0  40   4  17]\n",
      " [152   2  77  36 104   0 608   0  21   0]\n",
      " [  0   0   0   0   0  21   0 943   1  35]\n",
      " [  3   1   3   5  10   6   7   2 962   1]\n",
      " [  1   0   0   1   0  11   1  37   0 949]]\n"
     ]
    }
   ],
   "source": [
    "pf_save = r'G:\\STUDY\\Sem 1\\CV\\Project\\model'\n",
    "pf_result = r'G:\\STUDY\\Sem 1\\CV\\Project\\results'\n",
    "pf_feature = r'G:\\STUDY\\Sem 1\\CV\\Project\\Features'\n",
    "\n",
    "txtName2 = ('%s\\\\result_HOG_XGBoost.txt' %pf_result)\n",
    "txt_file2 = open(txtName2, \"w\")\n",
    "\n",
    "cell = 2\n",
    "blk = 2\n",
    "#Read data HOG\n",
    "h5py_fName = ('HOG_C%s_B%s.h5' %(cell, blk))\n",
    "h5f = h5py.File(os.path.join(pf_feature, h5py_fName), 'r')\n",
    "\n",
    "X_train_HOG = h5f['X_train'][:]\n",
    "Y_train_HOG = h5f['Y_train'][:]\n",
    "X_test_HOG = h5f['X_test'][:]\n",
    "Y_test_HOG = h5f['Y_test'][:]\n",
    "\n",
    "print(\"size of training features: \", np.shape(X_train_HOG))\n",
    "print(\"size of testing features: \", np.shape(X_test_HOG))\n",
    "\n",
    "#Training\n",
    "dtrain = xgb.DMatrix(X_train_HOG, label=Y_train_HOG)\n",
    "dtest = xgb.DMatrix(X_test_HOG, label=Y_test_HOG)\n",
    "\n",
    "param = {'max_depth':12, 'eta':0.5, 'objective':'multi:softmax', \n",
    "                     'num_class': 10}\n",
    "\n",
    "classif = xgb.train(param, dtrain, 10)\n",
    "test_pre = classif.predict(dtest)\n",
    "\n",
    "print(confusion_matrix(Y_test_HOG, test_pre))\n"
   ]
  },
  {
   "cell_type": "code",
   "execution_count": 50,
   "metadata": {},
   "outputs": [
    {
     "name": "stdout",
     "output_type": "stream",
     "text": [
      "Accuracy 86.19 percent\n"
     ]
    }
   ],
   "source": [
    "test_acc = float(np.sum(np.diagonal(confusion_matrix(Y_test_HOG, test_pre)))) / np.sum(np.sum(confusion_matrix(Y_test_HOG, test_pre)))\n",
    "print(\"Accuracy %s percent\" %(test_acc*100))"
   ]
  },
  {
   "cell_type": "code",
   "execution_count": 52,
   "metadata": {},
   "outputs": [
    {
     "name": "stdout",
     "output_type": "stream",
     "text": [
      ">True label Shirt\n",
      ">Predict label Shirt\n"
     ]
    },
    {
     "data": {
      "image/png": "[encoded data removed]",
      "text/plain": [
       "<Figure size 432x288 with 1 Axes>"
      ]
     },
     "metadata": {},
     "output_type": "display_data"
    }
   ],
   "source": [
    "img_indx = np.uint32(np.random.rand()*(y_test.shape[0] - 1))\n",
    "sample = x_test[img_indx,:,:]\n",
    "\n",
    "plt.imshow(sample, cmap='gray')\n",
    "plt.show\n",
    "print('>True label %s' % (get_name(y_test[img_indx])))\n",
    "print('>Predict label %s' % (get_name(test_pre[img_indx])))"
   ]
  }
 ],
 "metadata": {
  "kernelspec": {
   "display_name": "Python 3",
   "language": "python",
   "name": "python3"
  },
  "language_info": {
   "codemirror_mode": {
    "name": "ipython",
    "version": 3
   },
   "file_extension": ".py",
   "mimetype": "text/x-python",
   "name": "python",
   "nbconvert_exporter": "python",
   "pygments_lexer": "ipython3",
   "version": "3.6.5"
  }
 },
 "nbformat": 4,
 "nbformat_minor": 2
}
